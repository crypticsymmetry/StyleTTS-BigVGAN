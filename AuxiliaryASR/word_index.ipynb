{
 "cells": [
  {
   "cell_type": "code",
   "execution_count": 2,
   "metadata": {},
   "outputs": [],
   "source": [
    "from symbols import symbols\n",
    "\n",
    "with open(\"word_index_dict_new.txt\", \"w\") as wf:\n",
    "    for idx, k in enumerate(symbols):\n",
    "        wf.write(f'\"{k}\",{idx}\\n')"
   ]
  },
  {
   "cell_type": "code",
   "execution_count": 1,
   "metadata": {},
   "outputs": [
    {
     "name": "stdout",
     "output_type": "stream",
     "text": [
      "['y', 'h', 'ʁ', '~', 'ɡ', 'i', ':', 'a', '̍', ' ', 'ɲ', 'ʂ', 'N', 'ʃ', ',', 'ø', 'ɵ', 'ə', 'ˌ', '̃', '.', 'ʐ', 'q', 'ʔ', 'f', 'ʑ', 'k', \"'\", 'ð', 'ʏ', 'ɪ', 'ʒ', '̩', 'm', 's', '̥', '随', '-', 'ː', 'ɐ', 'ʲ', '̪', 'l', 'ɔ', 'w', 'ɝ', 'ɚ', 'ʙ', 'θ', 'ɣ', '鎚', '?', 'j', 'ɛ', '‿', '!', 'ɕ', '蹂', 'd', 'z', 't', 'œ', 'ɹ', 'v', 'g', 'e', 'u', 'ɨ', 'ɜ', 'o', 'ç', 'ɫ', 'ʊ', 'n', 'c', 'ʌ', 'ˠ', 'ʉ', 'r', 'p', '̯', '削', 'æ', 'b', 'ŋ', 'ɒ', 'x', 'ɑ', '͡', 'ʍ']\n"
     ]
    }
   ],
   "source": [
    "train_data = [\n",
    "            \"/home/akorolev/master/projects/vits-emotts/filelists/borderlands2_en.csv\",\n",
    "            \"/home/akorolev/master/projects/vits-emotts/filelists/borderlands2_en.csv\",\n",
    "            \"/home/akorolev/master/projects/vits-emotts/filelists/emotional_train.csv\",\n",
    "            \"/home/akorolev/master/projects/vits-emotts/filelists/fallout4_en.csv\",\n",
    "            \"/home/akorolev/master/projects/vits-emotts/filelists/gametts_de.csv\",\n",
    "            \"/home/akorolev/master/projects/vits-emotts/filelists/kcd_de.csv\",\n",
    "            \"/home/akorolev/master/projects/vits-emotts/filelists/skyrim_jp.csv\",\n",
    "            \"/home/akorolev/master/projects/vits-emotts/filelists/sqnarrator.csv\",\n",
    "            \"/home/akorolev/master/projects/vits-emotts/filelists/warcraft_en.csv\",\n",
    "            \"/home/akorolev/master/projects/vits-emotts/filelists/witcher3_pl.csv\",\n",
    "            \"/home/akorolev/master/projects/vits-emotts/filelists/witcher3_ru.csv\",\n",
    "            \"/home/akorolev/master/projects/vits-emotts/filelists/witcher3_skyrim_en.csv\",\n",
    "            \"/home/akorolev/master/projects/vits-emotts/filelists/worldofwarcraft.csv\"\n",
    "        ]\n",
    "\n",
    "all_data = []\n",
    "\n",
    "for f in train_data:\n",
    "    with open(f, \"r\") as rf:\n",
    "        all_data.extend(rf.readlines())\n",
    "        \n",
    "\n",
    "all_text = [l.split(\"|\")[4] for l in all_data]\n",
    "all_phonemes = list(set([x for text in all_text for x in text]))\n",
    "\n",
    "print(all_phonemes)"
   ]
  },
  {
   "cell_type": "code",
   "execution_count": 2,
   "metadata": {},
   "outputs": [
    {
     "name": "stderr",
     "output_type": "stream",
     "text": [
      "100%|██████████| 355172/355172 [3:57:27<00:00, 24.93it/s]   "
     ]
    },
    {
     "name": "stdout",
     "output_type": "stream",
     "text": [
      "1361391.312789132\n"
     ]
    },
    {
     "name": "stderr",
     "output_type": "stream",
     "text": [
      "\n"
     ]
    }
   ],
   "source": [
    "import librosa \n",
    "from tqdm import tqdm\n",
    "\n",
    "dur_gesamt = 0\n",
    "\n",
    "for line in tqdm(all_data):\n",
    "    audio_path = line.split(\"|\")[0]\n",
    "    y, sr = librosa.load(audio_path, sr=22050)\n",
    "    dur = librosa.get_duration(y=y, sr=sr)\n",
    "    dur_gesamt += dur\n",
    "\n",
    "print(dur_gesamt)"
   ]
  }
 ],
 "metadata": {
  "kernelspec": {
   "display_name": "Python 3",
   "language": "python",
   "name": "python3"
  },
  "language_info": {
   "codemirror_mode": {
    "name": "ipython",
    "version": 3
   },
   "file_extension": ".py",
   "mimetype": "text/x-python",
   "name": "python",
   "nbconvert_exporter": "python",
   "pygments_lexer": "ipython3",
   "version": "3.9.9"
  },
  "orig_nbformat": 4,
  "vscode": {
   "interpreter": {
    "hash": "36cf16204b8548560b1c020c4e8fb5b57f0e4c58016f52f2d4be01e192833930"
   }
  }
 },
 "nbformat": 4,
 "nbformat_minor": 2
}
